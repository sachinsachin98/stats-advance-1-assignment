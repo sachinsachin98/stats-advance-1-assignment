{
 "cells": [
  {
   "cell_type": "markdown",
   "id": "1e879c81-1bef-442a-92b0-a157fe2928f3",
   "metadata": {},
   "source": [
    "#Q1\n",
    "The Probability Density Function (PDF) is a concept commonly used in statistics and probability theory to describe the likelihood of a continuous random variable taking on a particular value within a certain interval. In simpler terms, it's a function that describes the probability distribution of a continuous random variable.\n",
    "\n",
    "For a continuous random variable X, the PDF is denoted by f(x) and has the property that the area under the curve of the PDF over any interval represents the probability that the variable falls within that interval.\n",
    "\n",
    "The PDF is non-negative\n",
    "Common examples of probability density functions include the normal distribution, exponential distribution, and uniform distribution, among others. Each of these distributions has its own specific mathematical form for its PDF."
   ]
  },
  {
   "cell_type": "markdown",
   "id": "8051c39b-0f2a-4ee0-ba80-d5cb9229c2a5",
   "metadata": {},
   "source": [
    "#Q2\n",
    "There are several types of probability distributions that are commonly encountered in statistics and probability theory. These distributions describe the likelihood of different outcomes for random variables. Here are some of the most well-known types:\n",
    "\n",
    "Discrete Distributions:\n",
    "\n",
    "Bernoulli Distribution: Describes the probability of success or failure for a binary experiment.\n",
    "Binomial Distribution: Represents the number of successes in a fixed number of independent Bernoulli trials.\n",
    "Poisson Distribution: Models the number of events occurring in a fixed interval of time or space, given a known average rate.\n",
    "Continuous Distributions:\n",
    "\n",
    "Normal (Gaussian) Distribution: Often referred to as the bell curve, it's characterized by its symmetric and bell-shaped curve. Many natural phenomena tend to follow this distribution due to the central limit theorem.\n",
    "Exponential Distribution: Describes the time between events in a Poisson process (random events occurring at a constant average rate).\n",
    "Uniform Distribution: All outcomes in an interval are equally likely.\n",
    "Gamma Distribution: Generalizes the exponential distribution and can model various types of waiting times.\n",
    "Beta Distribution: Describes probabilities when dealing with bounded random variables, often used in Bayesian statistics.\n",
    "Chi-Square Distribution: Arises in the context of hypothesis testing and confidence intervals for the variance of a normal distribution.\n",
    "Student's t-Distribution: Used in statistical inference for small sample sizes when the population standard deviation is unknown.\n",
    "F-Distribution: Used in the analysis of variance (ANOVA) and other statistical tests.\n",
    "Multivariate Distributions:\n",
    "\n",
    "Multinomial Distribution: A generalization of the binomial distribution to multiple categories.\n",
    "Multivariate Normal Distribution: Generalizes the normal distribution to multiple dimensions, often used in multivariate statistics.\n",
    "Other Distributions:\n",
    "\n",
    "Log-Normal Distribution: The logarithm of the random variable follows a normal distribution, often used in financial modeling.\n",
    "Weibull Distribution: Often used to model time-to-failure in reliability engineering.\n",
    "Geometric Distribution: Represents the number of trials needed for the first success in a sequence of Bernoulli trials."
   ]
  },
  {
   "cell_type": "code",
   "execution_count": 1,
   "id": "6d40a18e-9785-402e-80bb-f9a6ccf23485",
   "metadata": {},
   "outputs": [],
   "source": [
    "#Q3\n",
    "import math\n",
    "\n",
    "def pdf_dist(x, mean, std_dev):\n",
    "    \"\"\"\n",
    "    Calculates the probability density function (PDF) of a normal distribution\n",
    "    \"\"\"\n",
    "    variance = std_dev ** 2\n",
    "    exponent = -((x - mean) ** 2) / (2 * variance)\n",
    "    coefficient = 1 / math.sqrt(2 * math.pi * variance)\n",
    "    pdf = coefficient * math.exp(exponent)\n",
    "    return pdf"
   ]
  },
  {
   "cell_type": "code",
   "execution_count": 2,
   "id": "b2563b5d-9cd3-4867-a4d3-d47feadbe4d8",
   "metadata": {},
   "outputs": [
    {
     "data": {
      "text/plain": [
       "7.433597573671488e-07"
      ]
     },
     "execution_count": 2,
     "metadata": {},
     "output_type": "execute_result"
    }
   ],
   "source": [
    "pdf_dist(x=10, mean=20, std_dev=2)"
   ]
  },
  {
   "cell_type": "markdown",
   "id": "0139b68b-92f6-4e80-8eab-3b0c0127e118",
   "metadata": {},
   "source": [
    "#Q4\n",
    "The Binomial distribution is a discrete probability distribution that describes the number of successes in a fixed number of independent Bernoulli trials. It has several key properties:\n",
    "\n",
    "Fixed Number of Trials (n): The distribution considers a fixed number of trials or experiments, denoted by 'n'.\n",
    "\n",
    "Independent Trials: Each trial is independent of the others, meaning the outcome of one trial does not affect the outcome of any other trial.\n",
    "\n",
    "Two Possible Outcomes: Each trial results in one of two possible outcomes: success (usually denoted as 'S') or failure (usually denoted as 'F').\n",
    "\n",
    "Constant Probability of Success (p): The probability of success ('S') remains constant across all trials and is denoted by 'p'.\n",
    "\n",
    "Discrete Count: The random variable representing the number of successes in 'n' trials takes on discrete values (whole numbers) between 0 and 'n'.\n",
    "\n",
    "Probability Mass Function (PMF): The probability of observing exactly 'k' successes in 'n'\n",
    "\n",
    "Two examples of events where the Binomial distribution can be applied are:\n",
    "\n",
    "Coin Flips: Suppose you're flipping a fair coin (where the probability of getting heads, 'S', is 0.5) 10 times. You want to know the probability of getting exactly 3 heads. This situation can be modeled using a Binomial distribution with n = 10 trials and p = 0.5 probability of success\n",
    "\n",
    "\n",
    "Quality Control: Imagine a manufacturing process where each product can be defective ('F') with a probability of 0.1 or non-defective ('S') with a probability of 0.9. If you inspect 50 randomly selected products, you might be interested in calculating the probability of finding exactly 5 defective products. This scenario can be modeled using a Binomial distribution with n = 50 trials and p = 0.1 probability of success (defective).\n"
   ]
  },
  {
   "cell_type": "code",
   "execution_count": 3,
   "id": "55aef139-16ad-493f-88c5-034cfc973fd1",
   "metadata": {},
   "outputs": [
    {
     "data": {
      "image/png": "[encoded data removed]",
      "text/plain": [
       "<Figure size 640x480 with 1 Axes>"
      ]
     },
     "metadata": {},
     "output_type": "display_data"
    }
   ],
   "source": [
    "#Q5\n",
    "import numpy as np\n",
    "import matplotlib.pyplot as plt\n",
    "\n",
    "n = 1000 \n",
    "p = 0.4 \n",
    "sample = np.random.binomial(n, p, size=1000)\n",
    "\n",
    "plt.hist(sample,bins='fd',density=True, edgecolor='black')\n",
    "plt.xlabel('Number of Successes')\n",
    "plt.ylabel('Probability')\n",
    "plt.title('Binomial Distribution (n=1000, p=0.4)')\n",
    "plt.show()"
   ]
  },
  {
   "cell_type": "code",
   "execution_count": 5,
   "id": "c516a9a3-122a-4c7c-a422-1ffd23a834ca",
   "metadata": {},
   "outputs": [
    {
     "name": "stdout",
     "output_type": "stream",
     "text": [
      "Poison cdf for mean = 50 at x = 20 is 1.2351872218710016e-06\n"
     ]
    }
   ],
   "source": [
    "#Q6\n",
    "import math\n",
    "\n",
    "def cdf_dist(mean, point):\n",
    "    \"\"\"\n",
    "    Calculates the cumulative distribution function \n",
    "    \"\"\"\n",
    "    cdf = 0\n",
    "    for k in range(point + 1):\n",
    "        cdf = cdf + math.exp(-mean) * pow(mean, k) / math.factorial(k)\n",
    "    print(f'Poison cdf for mean = {mean} at x = {point} is {cdf}')\n",
    "\n",
    "\n",
    "cdf_dist(mean=50, point=20)"
   ]
  },
  {
   "cell_type": "markdown",
   "id": "809cfa81-0b3c-4245-9f68-64f3076671fd",
   "metadata": {},
   "source": [
    "#Q7\n",
    "The Binomial distribution and the Poisson distribution are both probability distributions used to model the number of occurrences of certain events. However, they are applicable in different situations and have distinct characteristics:\n",
    "\n",
    "1. Nature of Events:\n",
    "\n",
    "Binomial Distribution: The binomial distribution is used when you have a fixed number of independent trials, each with two possible outcomes (success and failure). The probability of success remains constant across trials, and you're interested in counting the number of successes in a given number of trials.\n",
    "\n",
    "Poisson Distribution: The Poisson distribution is used to model the number of rare events that occur in a fixed interval of time or space. It's often used when the events are infrequent and independent of each other.\n",
    "\n",
    "2. Parameters:\n",
    "\n",
    "Binomial Distribution: The parameters are the number of trials (n) and the probability of success (p).\n",
    "\n",
    "Poisson Distribution: The parameter is the average rate of events (λ).\n",
    "\n",
    "3. Range of Values:\n",
    "\n",
    "Binomial Distribution: The number of successes can take on discrete values from 0 to n.\n",
    "\n",
    "Poisson Distribution: The number of events can take on discrete values from 0 to infinity.\n",
    "\n",
    "4. Probability Mass Function:\n",
    "\n",
    "Binomial Distribution: The probability mass function gives the probability of getting a specific number of successes in n trials.\n",
    "\n",
    "Poisson Distribution: The probability mass function gives the probability of observing a specific number of events in a fixed interval, given the average rate of events.\n",
    "\n",
    "5. Conditions:\n",
    "\n",
    "Binomial Distribution: The binomial distribution is appropriate when the trials are independent, the probability of success is the same for each trial, and the number of trials is fixed.\n",
    "\n",
    "Poisson Distribution: The Poisson distribution is appropriate when events are rare and occur randomly, and the average rate of events is relatively small.\n",
    "\n",
    "6. Limiting Cases:\n",
    "\n",
    "The Poisson distribution can be seen as a limiting case of the binomial distribution when the number of trials (n) becomes very large and the probability of success (p) becomes very small while keeping the product np constant."
   ]
  },
  {
   "cell_type": "code",
   "execution_count": 6,
   "id": "1cba582e-3706-4c5e-8e49-40dd8e917057",
   "metadata": {},
   "outputs": [
    {
     "name": "stdout",
     "output_type": "stream",
     "text": [
      "mean : 4.947\n",
      "variance : 4.814191\n"
     ]
    }
   ],
   "source": [
    "#Q8\n",
    "import numpy as np\n",
    "np.random.seed(0)\n",
    "sample = np.random.poisson(lam=5, size=1000)\n",
    "mean = np.mean(sample)\n",
    "variance = np.var(sample)\n",
    "print(\"mean :\", mean)\n",
    "print(\"variance :\", variance)"
   ]
  },
  {
   "cell_type": "markdown",
   "id": "bb61a5c7-5f28-4900-9d41-a064d14b28e4",
   "metadata": {},
   "source": [
    "#Q9\n",
    "In both the Binomial and Poisson distributions, the mean and variance have a specific relationship that provides insights into the spread of the distribution. This relationship holds true for various probability distributions and is often referred to as the \"mean-variance relationship.\"\n",
    "\n",
    "Binomial Distribution:\n",
    "For a Binomial distribution with parameters n(number of trials) and p(probability of success),, the mean (μ) and variance (σ^2) are related as follows:\n",
    "μ=np\n",
    "σ^2=np(1−p)\n",
    "\n",
    "Poisson Distribution:\n",
    "For a Poisson distribution with parameter λ (average rate of events), the mean (μ) and variance (σ^2) are related as follows:\n",
    "μ=λ\n",
    "σ^2=λ\n",
    "\n",
    "In both cases, the mean represents the average or expected value of the distribution, while the variance quantifies the spread or variability of the distribution. The relationship between mean and variance provides insight into how data points are dispersed around the mean.\n",
    "\n",
    "Comparing the relationships between mean and variance in the two distributions:\n",
    "\n",
    "In the Binomial distribution, the variance increases as the probability of success p gets closer to 0.5, and it reaches its maximum when p=0.5. The variance decreases as p moves away from 0.5 towards 0 or 1.\n",
    "\n",
    "In the Poisson distribution, the mean and variance are always equal. The variance does not depend on any additional parameters like the probability of success in the Binomial distribution."
   ]
  },
  {
   "cell_type": "markdown",
   "id": "ff37d06c-6b31-47bc-b0d5-242013c2d38f",
   "metadata": {},
   "source": [
    "#Q10\n",
    "In a normal distribution, also known as a Gaussian distribution or bell curve, the data is symmetrically distributed around the mean. The mean is the center of the distribution, and it is the value that corresponds to the peak of the curve.\n",
    "\n",
    "In a normal distribution:\n",
    "\n",
    "The least frequent data points appear in the tails of the distribution, farthest from the mean.\n",
    "The data becomes less frequent as you move away from the mean in both directions (left and right) along the x-axis.\n",
    "The tails of a normal distribution extend infinitely in both directions, but they become increasingly rare as you move away from the mean. This is a characteristic of the standard normal distribution, which has a mean of 0 and a standard deviation of 1. In this case, the least frequent data points are the extreme values that are farthest from the center (mean) of the distribution."
   ]
  },
  {
   "cell_type": "code",
   "execution_count": null,
   "id": "a136c126-9df7-40a4-b08b-be96ab5640ce",
   "metadata": {},
   "outputs": [],
   "source": []
  }
 ],
 "metadata": {
  "kernelspec": {
   "display_name": "Python 3 (ipykernel)",
   "language": "python",
   "name": "python3"
  },
  "language_info": {
   "codemirror_mode": {
    "name": "ipython",
    "version": 3
   },
   "file_extension": ".py",
   "mimetype": "text/x-python",
   "name": "python",
   "nbconvert_exporter": "python",
   "pygments_lexer": "ipython3",
   "version": "3.10.8"
  }
 },
 "nbformat": 4,
 "nbformat_minor": 5
}
